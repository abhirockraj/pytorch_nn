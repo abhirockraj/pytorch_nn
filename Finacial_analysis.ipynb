{
  "nbformat": 4,
  "nbformat_minor": 0,
  "metadata": {
    "colab": {
      "name": "Finacial_analysis.ipynb",
      "provenance": [],
      "authorship_tag": "ABX9TyNjuGC0yfaIA9JYi86Y09LM",
      "include_colab_link": true
    },
    "kernelspec": {
      "name": "python3",
      "display_name": "Python 3"
    },
    "language_info": {
      "name": "python"
    }
  },
  "cells": [
    {
      "cell_type": "markdown",
      "metadata": {
        "id": "view-in-github",
        "colab_type": "text"
      },
      "source": [
        "<a href=\"https://colab.research.google.com/github/abhirockraj/pytorch_nn/blob/main/Finacial_analysis.ipynb\" target=\"_parent\"><img src=\"https://colab.research.google.com/assets/colab-badge.svg\" alt=\"Open In Colab\"/></a>"
      ]
    },
    {
      "cell_type": "code",
      "metadata": {
        "id": "ms2DTQtOuoXi"
      },
      "source": [
        "import torch\n",
        "import torch.nn as nn\n",
        "import torchvision\n",
        "import torchvision.transforms as transforms\n",
        "import pytorch_lightning as pl\n",
        "from pytorch_lightning import Trainer"
      ],
      "execution_count": 33,
      "outputs": []
    },
    {
      "cell_type": "code",
      "metadata": {
        "id": "Gh1ku5hqu0tN"
      },
      "source": [
        "import yfinance as yf\n",
        "import pandas as pd\n",
        "import matplotlib.pyplot as plt\n",
        "import numpy as np"
      ],
      "execution_count": 8,
      "outputs": []
    },
    {
      "cell_type": "code",
      "metadata": {
        "id": "_BEM1eCSu7Xs"
      },
      "source": [
        "adni = yf.Ticker(\"ADANIENT.NS\")"
      ],
      "execution_count": 11,
      "outputs": []
    },
    {
      "cell_type": "code",
      "metadata": {
        "colab": {
          "base_uri": "https://localhost:8080/",
          "height": 739
        },
        "id": "TtRjR1auviKs",
        "outputId": "7fb307fa-36ef-4010-fd27-5091fb30559f"
      },
      "source": [
        "adni.financials"
      ],
      "execution_count": 12,
      "outputs": [
        {
          "output_type": "execute_result",
          "data": {
            "text/html": [
              "<div>\n",
              "<style scoped>\n",
              "    .dataframe tbody tr th:only-of-type {\n",
              "        vertical-align: middle;\n",
              "    }\n",
              "\n",
              "    .dataframe tbody tr th {\n",
              "        vertical-align: top;\n",
              "    }\n",
              "\n",
              "    .dataframe thead th {\n",
              "        text-align: right;\n",
              "    }\n",
              "</style>\n",
              "<table border=\"1\" class=\"dataframe\">\n",
              "  <thead>\n",
              "    <tr style=\"text-align: right;\">\n",
              "      <th></th>\n",
              "      <th>2021-03-31</th>\n",
              "      <th>2020-03-31</th>\n",
              "      <th>2019-03-31</th>\n",
              "      <th>2018-03-31</th>\n",
              "    </tr>\n",
              "  </thead>\n",
              "  <tbody>\n",
              "    <tr>\n",
              "      <th>Research Development</th>\n",
              "      <td>None</td>\n",
              "      <td>None</td>\n",
              "      <td>None</td>\n",
              "      <td>None</td>\n",
              "    </tr>\n",
              "    <tr>\n",
              "      <th>Effect Of Accounting Charges</th>\n",
              "      <td>None</td>\n",
              "      <td>None</td>\n",
              "      <td>None</td>\n",
              "      <td>None</td>\n",
              "    </tr>\n",
              "    <tr>\n",
              "      <th>Income Before Tax</th>\n",
              "      <td>1.38541e+10</td>\n",
              "      <td>1.36432e+10</td>\n",
              "      <td>5.5967e+09</td>\n",
              "      <td>6.587e+09</td>\n",
              "    </tr>\n",
              "    <tr>\n",
              "      <th>Minority Interest</th>\n",
              "      <td>1.75144e+10</td>\n",
              "      <td>1.26337e+10</td>\n",
              "      <td>3.8777e+09</td>\n",
              "      <td>7.7786e+09</td>\n",
              "    </tr>\n",
              "    <tr>\n",
              "      <th>Net Income</th>\n",
              "      <td>9.2264e+09</td>\n",
              "      <td>1.13817e+10</td>\n",
              "      <td>7.1714e+09</td>\n",
              "      <td>7.5725e+09</td>\n",
              "    </tr>\n",
              "    <tr>\n",
              "      <th>Selling General Administrative</th>\n",
              "      <td>6.78426e+10</td>\n",
              "      <td>6.45792e+10</td>\n",
              "      <td>5.08845e+10</td>\n",
              "      <td>3.89138e+10</td>\n",
              "    </tr>\n",
              "    <tr>\n",
              "      <th>Gross Profit</th>\n",
              "      <td>9.28931e+10</td>\n",
              "      <td>8.74223e+10</td>\n",
              "      <td>7.05725e+10</td>\n",
              "      <td>5.92558e+10</td>\n",
              "    </tr>\n",
              "    <tr>\n",
              "      <th>Ebit</th>\n",
              "      <td>1.98188e+10</td>\n",
              "      <td>1.85189e+10</td>\n",
              "      <td>1.59071e+10</td>\n",
              "      <td>1.38368e+10</td>\n",
              "    </tr>\n",
              "    <tr>\n",
              "      <th>Operating Income</th>\n",
              "      <td>1.98188e+10</td>\n",
              "      <td>1.85189e+10</td>\n",
              "      <td>1.59071e+10</td>\n",
              "      <td>1.38368e+10</td>\n",
              "    </tr>\n",
              "    <tr>\n",
              "      <th>Other Operating Expenses</th>\n",
              "      <td>-1.397e+08</td>\n",
              "      <td>-3.964e+08</td>\n",
              "      <td>-1.168e+08</td>\n",
              "      <td>-1.34e+08</td>\n",
              "    </tr>\n",
              "    <tr>\n",
              "      <th>Interest Expense</th>\n",
              "      <td>-1.18367e+10</td>\n",
              "      <td>-1.35411e+10</td>\n",
              "      <td>-1.42573e+10</td>\n",
              "      <td>-1.01995e+10</td>\n",
              "    </tr>\n",
              "    <tr>\n",
              "      <th>Extraordinary Items</th>\n",
              "      <td>None</td>\n",
              "      <td>None</td>\n",
              "      <td>None</td>\n",
              "      <td>None</td>\n",
              "    </tr>\n",
              "    <tr>\n",
              "      <th>Non Recurring</th>\n",
              "      <td>None</td>\n",
              "      <td>None</td>\n",
              "      <td>None</td>\n",
              "      <td>None</td>\n",
              "    </tr>\n",
              "    <tr>\n",
              "      <th>Other Items</th>\n",
              "      <td>None</td>\n",
              "      <td>None</td>\n",
              "      <td>None</td>\n",
              "      <td>None</td>\n",
              "    </tr>\n",
              "    <tr>\n",
              "      <th>Income Tax Expense</th>\n",
              "      <td>3.3965e+09</td>\n",
              "      <td>3.2433e+09</td>\n",
              "      <td>1.4454e+09</td>\n",
              "      <td>1.1211e+09</td>\n",
              "    </tr>\n",
              "    <tr>\n",
              "      <th>Total Revenue</th>\n",
              "      <td>3.95371e+11</td>\n",
              "      <td>4.34026e+11</td>\n",
              "      <td>4.03787e+11</td>\n",
              "      <td>3.59239e+11</td>\n",
              "    </tr>\n",
              "    <tr>\n",
              "      <th>Total Operating Expenses</th>\n",
              "      <td>3.75552e+11</td>\n",
              "      <td>4.15507e+11</td>\n",
              "      <td>3.8788e+11</td>\n",
              "      <td>3.45402e+11</td>\n",
              "    </tr>\n",
              "    <tr>\n",
              "      <th>Cost Of Revenue</th>\n",
              "      <td>3.02478e+11</td>\n",
              "      <td>3.46603e+11</td>\n",
              "      <td>3.33214e+11</td>\n",
              "      <td>2.99983e+11</td>\n",
              "    </tr>\n",
              "    <tr>\n",
              "      <th>Total Other Income Expense Net</th>\n",
              "      <td>-5.9647e+09</td>\n",
              "      <td>-4.8757e+09</td>\n",
              "      <td>-1.03104e+10</td>\n",
              "      <td>-7.2498e+09</td>\n",
              "    </tr>\n",
              "    <tr>\n",
              "      <th>Discontinued Operations</th>\n",
              "      <td>NaN</td>\n",
              "      <td>NaN</td>\n",
              "      <td>9.078e+08</td>\n",
              "      <td>4.761e+08</td>\n",
              "    </tr>\n",
              "    <tr>\n",
              "      <th>Net Income From Continuing Ops</th>\n",
              "      <td>1.04576e+10</td>\n",
              "      <td>1.03999e+10</td>\n",
              "      <td>4.1513e+09</td>\n",
              "      <td>5.4659e+09</td>\n",
              "    </tr>\n",
              "    <tr>\n",
              "      <th>Net Income Applicable To Common Shares</th>\n",
              "      <td>9.2264e+09</td>\n",
              "      <td>1.13817e+10</td>\n",
              "      <td>7.1714e+09</td>\n",
              "      <td>7.5725e+09</td>\n",
              "    </tr>\n",
              "  </tbody>\n",
              "</table>\n",
              "</div>"
            ],
            "text/plain": [
              "                                         2021-03-31  ...   2018-03-31\n",
              "Research Development                           None  ...         None\n",
              "Effect Of Accounting Charges                   None  ...         None\n",
              "Income Before Tax                       1.38541e+10  ...    6.587e+09\n",
              "Minority Interest                       1.75144e+10  ...   7.7786e+09\n",
              "Net Income                               9.2264e+09  ...   7.5725e+09\n",
              "Selling General Administrative          6.78426e+10  ...  3.89138e+10\n",
              "Gross Profit                            9.28931e+10  ...  5.92558e+10\n",
              "Ebit                                    1.98188e+10  ...  1.38368e+10\n",
              "Operating Income                        1.98188e+10  ...  1.38368e+10\n",
              "Other Operating Expenses                 -1.397e+08  ...    -1.34e+08\n",
              "Interest Expense                       -1.18367e+10  ... -1.01995e+10\n",
              "Extraordinary Items                            None  ...         None\n",
              "Non Recurring                                  None  ...         None\n",
              "Other Items                                    None  ...         None\n",
              "Income Tax Expense                       3.3965e+09  ...   1.1211e+09\n",
              "Total Revenue                           3.95371e+11  ...  3.59239e+11\n",
              "Total Operating Expenses                3.75552e+11  ...  3.45402e+11\n",
              "Cost Of Revenue                         3.02478e+11  ...  2.99983e+11\n",
              "Total Other Income Expense Net          -5.9647e+09  ...  -7.2498e+09\n",
              "Discontinued Operations                         NaN  ...    4.761e+08\n",
              "Net Income From Continuing Ops          1.04576e+10  ...   5.4659e+09\n",
              "Net Income Applicable To Common Shares   9.2264e+09  ...   7.5725e+09\n",
              "\n",
              "[22 rows x 4 columns]"
            ]
          },
          "metadata": {},
          "execution_count": 12
        }
      ]
    },
    {
      "cell_type": "code",
      "metadata": {
        "id": "sA1Gp_RFvodL"
      },
      "source": [
        "hist = adni.history(period=\"5y\")"
      ],
      "execution_count": 13,
      "outputs": []
    },
    {
      "cell_type": "code",
      "metadata": {
        "colab": {
          "base_uri": "https://localhost:8080/",
          "height": 238
        },
        "id": "QOjEwaD5yqhO",
        "outputId": "971883c7-039e-4628-aa8f-2e003e2ddc28"
      },
      "source": [
        "hist.head()"
      ],
      "execution_count": 14,
      "outputs": [
        {
          "output_type": "execute_result",
          "data": {
            "text/html": [
              "<div>\n",
              "<style scoped>\n",
              "    .dataframe tbody tr th:only-of-type {\n",
              "        vertical-align: middle;\n",
              "    }\n",
              "\n",
              "    .dataframe tbody tr th {\n",
              "        vertical-align: top;\n",
              "    }\n",
              "\n",
              "    .dataframe thead th {\n",
              "        text-align: right;\n",
              "    }\n",
              "</style>\n",
              "<table border=\"1\" class=\"dataframe\">\n",
              "  <thead>\n",
              "    <tr style=\"text-align: right;\">\n",
              "      <th></th>\n",
              "      <th>Open</th>\n",
              "      <th>High</th>\n",
              "      <th>Low</th>\n",
              "      <th>Close</th>\n",
              "      <th>Volume</th>\n",
              "      <th>Dividends</th>\n",
              "      <th>Stock Splits</th>\n",
              "    </tr>\n",
              "    <tr>\n",
              "      <th>Date</th>\n",
              "      <th></th>\n",
              "      <th></th>\n",
              "      <th></th>\n",
              "      <th></th>\n",
              "      <th></th>\n",
              "      <th></th>\n",
              "      <th></th>\n",
              "    </tr>\n",
              "  </thead>\n",
              "  <tbody>\n",
              "    <tr>\n",
              "      <th>2016-10-04</th>\n",
              "      <td>36.072186</td>\n",
              "      <td>36.713472</td>\n",
              "      <td>35.804985</td>\n",
              "      <td>36.339390</td>\n",
              "      <td>4761110</td>\n",
              "      <td>0.0</td>\n",
              "      <td>0</td>\n",
              "    </tr>\n",
              "    <tr>\n",
              "      <th>2016-10-05</th>\n",
              "      <td>36.553150</td>\n",
              "      <td>36.766911</td>\n",
              "      <td>35.858428</td>\n",
              "      <td>36.152348</td>\n",
              "      <td>2904432</td>\n",
              "      <td>0.0</td>\n",
              "      <td>0</td>\n",
              "    </tr>\n",
              "    <tr>\n",
              "      <th>2016-10-06</th>\n",
              "      <td>36.339385</td>\n",
              "      <td>36.633305</td>\n",
              "      <td>35.350740</td>\n",
              "      <td>35.671383</td>\n",
              "      <td>2998323</td>\n",
              "      <td>0.0</td>\n",
              "      <td>0</td>\n",
              "    </tr>\n",
              "    <tr>\n",
              "      <th>2016-10-07</th>\n",
              "      <td>35.885149</td>\n",
              "      <td>36.526432</td>\n",
              "      <td>35.430903</td>\n",
              "      <td>36.259228</td>\n",
              "      <td>5426409</td>\n",
              "      <td>0.0</td>\n",
              "      <td>0</td>\n",
              "    </tr>\n",
              "    <tr>\n",
              "      <th>2016-10-10</th>\n",
              "      <td>36.526434</td>\n",
              "      <td>37.595239</td>\n",
              "      <td>35.858431</td>\n",
              "      <td>36.900513</td>\n",
              "      <td>9051818</td>\n",
              "      <td>0.0</td>\n",
              "      <td>0</td>\n",
              "    </tr>\n",
              "  </tbody>\n",
              "</table>\n",
              "</div>"
            ],
            "text/plain": [
              "                 Open       High        Low  ...   Volume  Dividends  Stock Splits\n",
              "Date                                         ...                                  \n",
              "2016-10-04  36.072186  36.713472  35.804985  ...  4761110        0.0             0\n",
              "2016-10-05  36.553150  36.766911  35.858428  ...  2904432        0.0             0\n",
              "2016-10-06  36.339385  36.633305  35.350740  ...  2998323        0.0             0\n",
              "2016-10-07  35.885149  36.526432  35.430903  ...  5426409        0.0             0\n",
              "2016-10-10  36.526434  37.595239  35.858431  ...  9051818        0.0             0\n",
              "\n",
              "[5 rows x 7 columns]"
            ]
          },
          "metadata": {},
          "execution_count": 14
        }
      ]
    },
    {
      "cell_type": "code",
      "metadata": {
        "id": "bY3jOLqNytbM"
      },
      "source": [
        "df_x_close_out = hist[['Open','High','Low']]\n",
        "df_y_close_out = hist['Close']"
      ],
      "execution_count": 18,
      "outputs": []
    },
    {
      "cell_type": "code",
      "metadata": {
        "id": "vcv32d9E1y2l"
      },
      "source": [
        "df_x_close_out.reset_index(drop=True, inplace=True)\n",
        "df_y_close_out.reset_index(drop=True, inplace=True)"
      ],
      "execution_count": 21,
      "outputs": []
    },
    {
      "cell_type": "code",
      "metadata": {
        "id": "ylDF7cX9DRnN"
      },
      "source": [
        "df_x_close_out_val= df_x_close_out[:247]\n",
        "df_y_close_out_val = df_y_close_out[:247]\n",
        "df_x_close_out_train= df_x_close_out[247:]\n",
        "df_y_close_out_train = df_y_close_out[247:]"
      ],
      "execution_count": 28,
      "outputs": []
    },
    {
      "cell_type": "markdown",
      "metadata": {
        "id": "1_EeFeR58bwJ"
      },
      "source": [
        "Pytorch model creation"
      ]
    },
    {
      "cell_type": "code",
      "metadata": {
        "id": "uml1CTlCKx7a"
      },
      "source": [
        "input_size =3\n",
        "hidden_size=3\n",
        "lr= 0.001\n",
        "no_of_epoch=100\n",
        "batch_size=100"
      ],
      "execution_count": 37,
      "outputs": []
    },
    {
      "cell_type": "code",
      "metadata": {
        "id": "_79WyLqv8fQI"
      },
      "source": [
        "class NeuralNet(pl.LightningModule):\n",
        "    def __init__(self,input_size=3,hidden_size=3,num_layer=50):\n",
        "        super(NeuralNet,self).__init__()\n",
        "        self.rnn1= nn.RNN(input_size,hidden_size,num_layers,batch_first=True)\n",
        "        self.linear1=nn.Linear(hidden_size,1)\n",
        "    def forward(self,x):\n",
        "        out=self.rnn1(x)\n",
        "        out=self.linear2(out)\n",
        "        return out\n",
        "    def configure_optimizers(self):\n",
        "        optimizer = torch.optim.Adam(self.parameters(), lr=lr)\n",
        "        return optimizer\n",
        "    def training_step(self, train_batch, batch_idx):\n",
        "        x, y = train_batch\n",
        "        y_hat = self(x)\n",
        "        loss = F.mse_loss(y_hat, y)\n",
        "        self.log('train_loss', loss)\n",
        "        return loss\n",
        "    def validation_step(self, val_batch, batch_idx):\n",
        "        x, y = val_batch\n",
        "        y_hat = self(x)\n",
        "        loss = F.mse_loss(y_hat, y)\n",
        "        self.log('val_loss', loss)"
      ],
      "execution_count": 38,
      "outputs": []
    },
    {
      "cell_type": "code",
      "metadata": {
        "id": "-ZS9gjFPJh1i"
      },
      "source": [
        "df_x_close_out_val =torch.Tensor(df_x_close_out_val.values)\n",
        "df_y_close_out_val =torch.Tensor(df_y_close_out_val.values)\n",
        "df_x_close_out_train= torch.Tensor(df_x_close_out_train.values)\n",
        "df_y_close_out_train= torch.Tensor(df_y_close_out_train.values)"
      ],
      "execution_count": 44,
      "outputs": []
    },
    {
      "cell_type": "code",
      "metadata": {
        "id": "Xi8goGH3ZwCG"
      },
      "source": [
        "loader = DataLoader((df_x_close_out_train,df_y_close_out_train),batch_size =batch_size,num_worker=4,shuffle=True)"
      ],
      "execution_count": null,
      "outputs": []
    }
  ]
}