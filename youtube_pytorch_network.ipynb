{
 "cells": [
  {
   "cell_type": "code",
   "execution_count": 8,
   "id": "6e542ea8",
   "metadata": {},
   "outputs": [],
   "source": [
    "import torch\n",
    "import torch.nn as nn\n",
    "import torchvision\n",
    "import torchvision.transforms as transforms\n",
    "import matplotlib.pyplot as plt"
   ]
  },
  {
   "cell_type": "code",
   "execution_count": 17,
   "id": "8d911dc1",
   "metadata": {},
   "outputs": [],
   "source": [
    "device = torch.device('cuda'if torch.cuda.is_available() else 'cpu')"
   ]
  },
  {
   "cell_type": "code",
   "execution_count": 21,
   "id": "9c38d976",
   "metadata": {},
   "outputs": [],
   "source": [
    "input_size =784\n",
    "hidden_size=100\n",
    "num_class=10\n",
    "num_epochs=10\n",
    "batch_size=100\n",
    "learning_rate=0.001"
   ]
  },
  {
   "cell_type": "code",
   "execution_count": 10,
   "id": "c2236048",
   "metadata": {},
   "outputs": [
    {
     "name": "stdout",
     "output_type": "stream",
     "text": [
      "Downloading http://yann.lecun.com/exdb/mnist/train-images-idx3-ubyte.gz to ./data/MNIST/raw/train-images-idx3-ubyte.gz\n"
     ]
    },
    {
     "name": "stderr",
     "output_type": "stream",
     "text": [
      "100.1%"
     ]
    },
    {
     "name": "stdout",
     "output_type": "stream",
     "text": [
      "Extracting ./data/MNIST/raw/train-images-idx3-ubyte.gz to ./data/MNIST/raw\n"
     ]
    },
    {
     "name": "stderr",
     "output_type": "stream",
     "text": [
      "28.4%"
     ]
    },
    {
     "name": "stdout",
     "output_type": "stream",
     "text": [
      "Downloading http://yann.lecun.com/exdb/mnist/train-labels-idx1-ubyte.gz to ./data/MNIST/raw/train-labels-idx1-ubyte.gz\n"
     ]
    },
    {
     "name": "stderr",
     "output_type": "stream",
     "text": [
      "113.5%"
     ]
    },
    {
     "name": "stdout",
     "output_type": "stream",
     "text": [
      "Extracting ./data/MNIST/raw/train-labels-idx1-ubyte.gz to ./data/MNIST/raw\n",
      "Downloading http://yann.lecun.com/exdb/mnist/t10k-images-idx3-ubyte.gz to ./data/MNIST/raw/t10k-images-idx3-ubyte.gz\n"
     ]
    },
    {
     "name": "stderr",
     "output_type": "stream",
     "text": [
      "180.4%"
     ]
    },
    {
     "name": "stdout",
     "output_type": "stream",
     "text": [
      "Extracting ./data/MNIST/raw/t10k-images-idx3-ubyte.gz to ./data/MNIST/raw\n",
      "Downloading http://yann.lecun.com/exdb/mnist/t10k-labels-idx1-ubyte.gz to ./data/MNIST/raw/t10k-labels-idx1-ubyte.gz\n",
      "Extracting ./data/MNIST/raw/t10k-labels-idx1-ubyte.gz to ./data/MNIST/raw\n",
      "Processing...\n",
      "Done!\n"
     ]
    },
    {
     "name": "stderr",
     "output_type": "stream",
     "text": [
      "/Users/abhinavkumar/opt/anaconda3/envs/pytorch_without_gpu/lib/python3.8/site-packages/torchvision/datasets/mnist.py:480: UserWarning: The given NumPy array is not writeable, and PyTorch does not support non-writeable tensors. This means you can write to the underlying (supposedly non-writeable) NumPy array using the tensor. You may want to copy the array to protect its data or make it writeable before converting it to a tensor. This type of warning will be suppressed for the rest of this program. (Triggered internally at  /tmp/pip-req-build-7w1l4mea/torch/csrc/utils/tensor_numpy.cpp:141.)\n",
      "  return torch.from_numpy(parsed.astype(m[2], copy=False)).view(*s)\n"
     ]
    }
   ],
   "source": [
    "train_dataset = torchvision.datasets.MNIST(root='./data',train=True,transform=transforms.ToTensor(),download=True)\n",
    "test_dataset = torchvision.datasets.MNIST(root='./data',train=False,transform=transforms.ToTensor())"
   ]
  },
  {
   "cell_type": "code",
   "execution_count": 11,
   "id": "b8e1fdc2",
   "metadata": {},
   "outputs": [],
   "source": [
    "train_loader= torch.utils.data.DataLoader(dataset=train_dataset,batch_size=batch_size,shuffle=True)\n",
    "test_loader= torch.utils.data.DataLoader(dataset=test_dataset,batch_size=batch_size,shuffle=False)"
   ]
  },
  {
   "cell_type": "code",
   "execution_count": 14,
   "id": "b35da89e",
   "metadata": {},
   "outputs": [],
   "source": [
    "class NeuralNet(nn.Module):\n",
    "    def __init__(self,input_size,hidden_size,num_class):\n",
    "        super(NeuralNet,self).__init__()\n",
    "        self.linear1=nn.Linear(input_size,hidden_size)\n",
    "        self.relu=nn.ReLU()\n",
    "        self.linear2=nn.Linear(hidden_size,num_class)\n",
    "    def forward(self,x):\n",
    "        out=self.linear1(x)\n",
    "        out=self.relu(out)\n",
    "        out=self.linear2(out)\n",
    "        return out   "
   ]
  },
  {
   "cell_type": "code",
   "execution_count": 15,
   "id": "339720d3",
   "metadata": {},
   "outputs": [],
   "source": [
    "model = NeuralNet(input_size=input_size,hidden_size=hidden_size,num_class=num_class)\n",
    "criterion = nn.CrossEntropyLoss()\n",
    "optimizer = torch.optim.Adam(model.parameters(), lr=learning_rate)"
   ]
  },
  {
   "cell_type": "code",
   "execution_count": 22,
   "id": "48a94c4b",
   "metadata": {},
   "outputs": [
    {
     "name": "stdout",
     "output_type": "stream",
     "text": [
      "0.1933175027370453\n",
      "0.06642153859138489\n",
      "0.07851972430944443\n",
      "0.08036668598651886\n",
      "0.136453315615654\n",
      "0.0784425139427185\n",
      "0.0785999521613121\n",
      "0.19418247044086456\n",
      "0.1616106629371643\n",
      "0.16070537269115448\n",
      "0.051362890750169754\n",
      "0.03422914445400238\n",
      "0.2169884443283081\n",
      "0.07713894546031952\n",
      "0.11228245496749878\n",
      "0.12909948825836182\n",
      "0.03512062132358551\n",
      "0.05116654932498932\n",
      "0.07008054852485657\n",
      "0.04846690222620964\n",
      "0.05688980594277382\n",
      "0.10986317694187164\n",
      "0.16364078223705292\n",
      "0.10596000403165817\n",
      "0.06205055117607117\n",
      "0.036612991243600845\n",
      "0.050778280943632126\n",
      "0.12410321831703186\n",
      "0.04221923276782036\n",
      "0.07507939636707306\n",
      "0.017384497448801994\n",
      "0.060068026185035706\n",
      "0.12481305748224258\n",
      "0.00819746870547533\n",
      "0.054885830730199814\n",
      "0.016045914962887764\n",
      "0.022240417078137398\n",
      "0.06321730464696884\n",
      "0.02018873207271099\n",
      "0.15506881475448608\n",
      "0.0432545505464077\n",
      "0.0293381717056036\n",
      "0.019790833815932274\n",
      "0.01214162353426218\n",
      "0.04869028925895691\n",
      "0.016252484172582626\n",
      "0.029742524027824402\n",
      "0.03881247341632843\n",
      "0.016285963356494904\n",
      "0.07791712135076523\n",
      "0.023448370397090912\n",
      "0.02793419547379017\n",
      "0.02194075658917427\n",
      "0.0379011407494545\n",
      "0.010534492321312428\n",
      "0.009236213751137257\n",
      "0.04987829178571701\n",
      "0.028300832957029343\n",
      "0.04619981721043587\n",
      "0.030840056017041206\n"
     ]
    }
   ],
   "source": [
    "n_total_step= len(train_loader)\n",
    "for epoch in range(num_epochs):\n",
    "    for i,(images,labels) in enumerate(train_loader):\n",
    "        images = images.reshape(-1,28*28).to(device)\n",
    "        labels = labels.to(device)\n",
    "        \n",
    "        output = model(images)\n",
    "        loss= criterion(output,labels)\n",
    "        \n",
    "        optimizer.zero_grad()\n",
    "        loss.backward()\n",
    "        optimizer.step()\n",
    "        if(i+1)%100 ==0:\n",
    "            print(loss.item())"
   ]
  },
  {
   "cell_type": "code",
   "execution_count": 26,
   "id": "ebe7508d",
   "metadata": {},
   "outputs": [
    {
     "name": "stdout",
     "output_type": "stream",
     "text": [
      "99.0\n"
     ]
    }
   ],
   "source": [
    "with torch.no_grad():\n",
    "    n_samples=0\n",
    "    n_c_samples=0\n",
    "    for image, lable in test_loader:\n",
    "        images = images.reshape(-1,28*28).to(device)\n",
    "        labels = labels.to(device)\n",
    "        output = model(images)\n",
    "        _,pred = torch.max(output,1)\n",
    "        n_samples += labels.shape[0]\n",
    "        n_c_samples += (pred == labels).sum().item()\n",
    "        \n",
    "print(100*(n_c_samples/n_samples))        "
   ]
  },
  {
   "cell_type": "code",
   "execution_count": 27,
   "id": "7e81f891",
   "metadata": {},
   "outputs": [
    {
     "name": "stdout",
     "output_type": "stream",
     "text": [
      "tensor([3, 0, 4, 4, 0, 5, 4, 4, 5, 0, 1, 4, 2, 1, 6, 0, 2, 0, 7, 9, 8, 2, 8, 7,\n",
      "        0, 2, 7, 1, 4, 7, 9, 9, 5, 0, 0, 0, 7, 9, 6, 5, 8, 7, 4, 1, 8, 1, 4, 7,\n",
      "        7, 9, 4, 3, 0, 9, 1, 2, 7, 2, 7, 4, 8, 5, 5, 8, 5, 3, 7, 7, 2, 6, 6, 5,\n",
      "        1, 9, 0, 5, 8, 1, 3, 5, 7, 6, 3, 9, 4, 0, 7, 8, 4, 9, 1, 3, 8, 4, 0, 2,\n",
      "        1, 6, 8, 0])\n"
     ]
    }
   ],
   "source": []
  },
  {
   "cell_type": "code",
   "execution_count": null,
   "id": "08e79eb6",
   "metadata": {},
   "outputs": [],
   "source": []
  }
 ],
 "metadata": {
  "kernelspec": {
   "display_name": "Python 3",
   "language": "python",
   "name": "python3"
  },
  "language_info": {
   "codemirror_mode": {
    "name": "ipython",
    "version": 3
   },
   "file_extension": ".py",
   "mimetype": "text/x-python",
   "name": "python",
   "nbconvert_exporter": "python",
   "pygments_lexer": "ipython3",
   "version": "3.8.11"
  }
 },
 "nbformat": 4,
 "nbformat_minor": 5
}
